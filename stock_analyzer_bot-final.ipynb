{
 "cells": [
  {
   "cell_type": "markdown",
   "metadata": {},
   "source": [
    "## Importing libraries"
   ]
  },
  {
   "cell_type": "code",
   "execution_count": 1,
   "metadata": {},
   "outputs": [],
   "source": [
    "import os\n",
    "import time\n",
    "from bs4 import BeautifulSoup\n",
    "import re\n",
    "import requests\n",
    "import warnings\n",
    "import ollama\n",
    "import langchain\n",
    "from langchain.llms import OpenAI\n",
    "from langchain.agents import load_tools, AgentType, Tool, initialize_agent\n",
    "\n",
    "warnings.filterwarnings(\"ignore\")"
   ]
  },
  {
   "cell_type": "markdown",
   "metadata": {},
   "source": [
    "## Using Ollama for accessing the model"
   ]
  },
  {
   "cell_type": "code",
   "execution_count": 2,
   "metadata": {},
   "outputs": [],
   "source": [
    "from langchain_ollama import OllamaLLM\n",
    "llm = OllamaLLM(\n",
    "    model=\"mistral\",\n",
    "    temperature=0,\n",
    ")"
   ]
  },
  {
   "cell_type": "markdown",
   "metadata": {},
   "source": [
    "### Defining the custom Tools"
   ]
  },
  {
   "cell_type": "markdown",
   "metadata": {},
   "source": [
    "### Yahoo stock API"
   ]
  },
  {
   "cell_type": "code",
   "execution_count": 3,
   "metadata": {},
   "outputs": [
    {
     "name": "stdout",
     "output_type": "stream",
     "text": [
      "                  Close   Volume\n",
      "Date                            \n",
      "2024-11-05  3230.250000   872402\n",
      "2024-11-06  3177.050049  4522923\n",
      "2024-11-07  3120.850098  1608603\n",
      "2024-11-08  3186.250000  1719882\n",
      "2024-11-11  3206.600098  1054802\n"
     ]
    }
   ],
   "source": [
    "import yfinance as yf\n",
    "def get_stock_price(ticker,history=5):\n",
    "    if \".\" in ticker:\n",
    "        ticker=ticker.split(\".\")[0]\n",
    "    ticker=ticker+\".NS\"\n",
    "    stock = yf.Ticker(ticker)\n",
    "    df = stock.history(period=\"1y\")\n",
    "    df=df[[\"Close\",\"Volume\"]]\n",
    "    df.index=[str(x).split()[0] for x in list(df.index)]\n",
    "    df.index.rename(\"Date\",inplace=True)\n",
    "    df=df[-history:]\n",
    "    return df.to_string()\n",
    "\n",
    "print(get_stock_price(\"TITAN\"))"
   ]
  },
  {
   "cell_type": "markdown",
   "metadata": {},
   "source": [
    "### Google search engine using BeautifulSoup"
   ]
  },
  {
   "cell_type": "code",
   "execution_count": 4,
   "metadata": {},
   "outputs": [
    {
     "name": "stdout",
     "output_type": "stream",
     "text": [
      "Recent News:\n",
      "\n",
      "0. Asian Paints shares plunge 9% as brokerages sound the alarm over \n",
      "underwhelming Q2 results\n",
      "1. Asian Paints: Why this paints stock tumbled 9% today?\n",
      "2. Asian Paints shares fall as much as 9%, most since April 2021, after \n",
      "downgrades, target cuts\n",
      "3. Asian Paints shares nosedive 9% after Q2 PAT slips 42% YoY\n",
      "4. Why Asian Paints Share Price is Falling\n",
      "\n"
     ]
    }
   ],
   "source": [
    "def google_query(search_term):\n",
    "    if \"news\" not in search_term:\n",
    "        search_term=search_term+\" stock news\"\n",
    "    url=f\"https://www.google.com/search?q={search_term}&cr=countryIN\"\n",
    "    url=re.sub(r\"\\s\",\"+\",url)\n",
    "    return url\n",
    "\n",
    "def get_recent_stock_news(company_name):\n",
    "    headers={'User-Agent': 'Mozilla/5.0 (Windows NT 10.0; Win64; x64) AppleWebKit/537.36 (KHTML, like Gecko) Chrome/102.0.0.0 Safari/537.36'}\n",
    "\n",
    "    g_query=google_query(company_name)\n",
    "    res=requests.get(g_query,headers=headers).text\n",
    "    soup=BeautifulSoup(res,\"html.parser\")\n",
    "    news=[]\n",
    "    for n in soup.find_all(\"div\",\"n0jPhd ynAwRc tNxQIb nDgy9d\"):\n",
    "        news.append(n.text)\n",
    "    for n in soup.find_all(\"div\",\"IJl0Z\"):\n",
    "        news.append(n.text)\n",
    "\n",
    "    if len(news)>6:\n",
    "        news=news[:4]\n",
    "    else:\n",
    "        news=news\n",
    "    news_string=\"\"\n",
    "    for i,n in enumerate(news):\n",
    "        news_string+=f\"{i}. {n}\\n\"\n",
    "    top5_news=\"Recent News:\\n\\n\"+news_string\n",
    "    \n",
    "    return top5_news\n",
    "\n",
    "\n",
    "print(get_recent_stock_news(\"Asian paints\"))"
   ]
  },
  {
   "cell_type": "markdown",
   "metadata": {},
   "source": [
    "### Balance Sheets using yahoo finanace "
   ]
  },
  {
   "cell_type": "code",
   "execution_count": 5,
   "metadata": {
    "scrolled": true
   },
   "outputs": [
    {
     "name": "stdout",
     "output_type": "stream",
     "text": [
      "                                                                           2024-03-31       2023-03-31       2022-03-31\n",
      "Ordinary Shares Number                                                   3195339547.0     3196991847.0     3196991847.0\n",
      "Share Issued                                                             3195339547.0     3196991847.0     3196991847.0\n",
      "Net Debt                                                               461555600000.0   447847600000.0   445128500000.0\n",
      "Total Debt                                                             536895400000.0   529230900000.0   511952100000.0\n",
      "Tangible Book Value                                                    291385400000.0   255477800000.0   192170700000.0\n",
      "Invested Capital                                                       818351900000.0   777619500000.0   700316500000.0\n",
      "Working Capital                                                       -127861500000.0  -130012100000.0  -141013900000.0\n",
      "Net Tangible Assets                                                    291385400000.0   255477800000.0   192170700000.0\n",
      "Capital Lease Obligations                                               42096400000.0    39485700000.0    36051200000.0\n",
      "Common Stock Equity                                                    323552900000.0   287874300000.0   224415600000.0\n",
      "Total Capitalization                                                   697475400000.0   594959200000.0   551712600000.0\n",
      "Total Equity Gross Minority Interest                                   383327700000.0   342041200000.0   260284600000.0\n",
      "Minority Interest                                                       59774800000.0    54166900000.0    35869000000.0\n",
      "Stockholders Equity                                                    323552900000.0   287874300000.0   224415600000.0\n",
      "Other Equity Interest                                                     478500000.0      777300000.0   221220000000.0\n",
      "Retained Earnings                                                      239236300000.0   207701200000.0   152505300000.0\n",
      "Additional Paid In Capital                                              39858200000.0    40552400000.0    41483600000.0\n",
      "Capital Stock                                                            3195600000.0     3195600000.0     3195600000.0\n",
      "Common Stock                                                             3195600000.0     3195600000.0     3195600000.0\n",
      "Total Liabilities Net Minority Interest                               1012207200000.0   941449200000.0   868561400000.0\n",
      "Total Non Current Liabilities Net Minority Interest                    599691900000.0   500521400000.0   481224900000.0\n",
      "Other Non Current Liabilities                                            8737100000.0    12761300000.0     6907400000.0\n",
      "Tradeand Other Payables Non Current                                      4808900000.0     5619200000.0     3443800000.0\n",
      "Non Current Deferred Revenue                                           128182000000.0   106555100000.0    88984000000.0\n",
      "Non Current Deferred Taxes Liabilities                                  27723300000.0    19193700000.0    10333000000.0\n",
      "Long Term Debt And Capital Lease Obligation                            411347300000.0   342191900000.0   359374900000.0\n",
      "Long Term Capital Lease Obligation                                      37424800000.0    35107000000.0    32077900000.0\n",
      "Long Term Debt                                                         373922500000.0   307084900000.0   327297000000.0\n",
      "Long Term Provisions                                                    18650800000.0    14200200000.0    12181800000.0\n",
      "Current Liabilities                                                    412515300000.0   440927800000.0   387336500000.0\n",
      "Other Current Liabilities                                               12312800000.0    42077100000.0    34063600000.0\n",
      "Current Debt And Capital Lease Obligation                              125548100000.0   187039000000.0   152577200000.0\n",
      "Current Capital Lease Obligation                                         4671600000.0     4378700000.0     3973300000.0\n",
      "Current Debt                                                           120876500000.0   182660300000.0   148603900000.0\n",
      "Current Provisions                                                       2943400000.0     3110700000.0     3448200000.0\n",
      "Payables                                                               194553500000.0   132228100000.0   144512800000.0\n",
      "Other Payable                                                           98188200000.0    55739500000.0    38212300000.0\n",
      "Dividends Payable                                                         236200000.0      237000000.0      234500000.0\n",
      "Total Tax Payable                                                        2915400000.0     2179600000.0     1470000000.0\n",
      "Accounts Payable                                                        93213700000.0    74072000000.0   104596000000.0\n",
      "Total Assets                                                          1395534900000.0  1283490400000.0  1128846000000.0\n",
      "Total Non Current Assets                                              1110881100000.0   972574700000.0   882523400000.0\n",
      "Other Non Current Assets                                                84053800000.0    85257500000.0    68105700000.0\n",
      "Non Current Prepaid Assets                                              36289500000.0    20311000000.0    15921600000.0\n",
      "Non Current Deferred Taxes Assets                                        4990900000.0     2529000000.0     3346000000.0\n",
      "Investmentin Financial Assets                                           18545900000.0    13012100000.0    11698100000.0\n",
      "Available For Sale Securities                                           18530700000.0    12996600000.0    11696500000.0\n",
      "Financial Assets Designatedas Fair Value Through Profitor Loss Total       15200000.0       15500000.0        1600000.0\n",
      "Long Term Equity Investment                                            129835100000.0   142188800000.0   125800000000.0\n",
      "Goodwill And Other Intangible Assets                                    32167500000.0    32396500000.0    32244900000.0\n",
      "Other Intangible Assets                                                 14592900000.0    13813400000.0    13661800000.0\n",
      "Goodwill                                                                17574600000.0    18583100000.0    18583100000.0\n",
      "Net PPE                                                                755541200000.0   638833700000.0   588000600000.0\n",
      "Accumulated Depreciation                                              -304598800000.0  -273333100000.0  -241656400000.0\n",
      "Gross PPE                                                             1060140000000.0   912166800000.0   829657000000.0\n",
      "Construction In Progress                                               115613100000.0    53763600000.0    46351000000.0\n",
      "Other Properties                                                       250066100000.0   214580000000.0   180547100000.0\n",
      "Machinery Furniture Equipment                                          615910700000.0   572777300000.0   539487300000.0\n",
      "Buildings And Improvements                                              43926000000.0    38306200000.0    34403500000.0\n",
      "Land And Improvements                                                   34624100000.0    32739700000.0    28868100000.0\n",
      "Properties                                                                        0.0              0.0              0.0\n",
      "Current Assets                                                         284653800000.0   310915700000.0   246322600000.0\n",
      "Other Current Assets                                                    17043000000.0    13287200000.0    14796700000.0\n",
      "Hedging Assets Current                                                    607400000.0     1150700000.0       50600000.0\n",
      "Assets Held For Sale Current                                            12009900000.0    32999400000.0    30468300000.0\n",
      "Current Deferred Assets                                                    11100000.0       11100000.0       11100000.0\n",
      "Restricted Cash                                                         58275700000.0    70167700000.0    35634600000.0\n",
      "Prepaid Assets                                                          17357400000.0    17356400000.0    15937000000.0\n",
      "Inventory                                                               44196300000.0    39428800000.0    42315200000.0\n",
      "Other Inventories                                                          18300000.0       15700000.0       16600000.0\n",
      "Finished Goods                                                           7614000000.0     5918700000.0     5324400000.0\n",
      "Work In Process                                                            20900000.0       69900000.0      119900000.0\n",
      "Raw Materials                                                           36543100000.0    33424500000.0    36854300000.0\n",
      "Other Receivables                                                       29415600000.0    26334600000.0    26758800000.0\n",
      "Taxes Receivable                                                           82000000.0        6900000.0        2900000.0\n",
      "Accounts Receivable                                                     74016900000.0    69521500000.0    59797400000.0\n",
      "Allowance For Doubtful Accounts Receivable                             -15033600000.0   -10158500000.0    -5735600000.0\n",
      "Gross Accounts Receivable                                               89050500000.0    79680000000.0    65533000000.0\n",
      "Cash Cash Equivalents And Short Term Investments                        48022300000.0    53393600000.0    34877600000.0\n",
      "Other Short Term Investments                                            14778900000.0    11496000000.0     4105200000.0\n",
      "Cash And Cash Equivalents                                               33243400000.0    41897600000.0    30772400000.0\n",
      "Cash Equivalents                                                        18598000000.0    19861500000.0    17020900000.0\n",
      "Cash Financial                                                          14645400000.0    22036100000.0    13751500000.0\n"
     ]
    }
   ],
   "source": [
    "def get_financial_statements(ticker):\n",
    "    # time.sleep(4) #To avoid rate limit error\n",
    "    if \".\" in ticker:\n",
    "        ticker=ticker.split(\".\")[0]\n",
    "    else:\n",
    "        ticker=ticker\n",
    "    ticker=ticker+\".NS\"    \n",
    "    company = yf.Ticker(ticker)\n",
    "    balance_sheet = company.balance_sheet\n",
    "    if balance_sheet.shape[1]>=3:\n",
    "        balance_sheet=balance_sheet.iloc[:,:3]    # Remove 4th years data\n",
    "    balance_sheet=balance_sheet.dropna(how=\"any\")\n",
    "    balance_sheet = balance_sheet.to_string()\n",
    "    \n",
    "    return balance_sheet\n",
    "print(get_financial_statements(\"TATAPOWER.NS\"))"
   ]
  },
  {
   "cell_type": "code",
   "execution_count": 6,
   "metadata": {},
   "outputs": [],
   "source": [
    "import requests\n",
    "def get_company_Stock_ticker(query):\n",
    "    url = f'https://www.alphavantage.co/query?function=SYMBOL_SEARCH&keywords={query}&apikey=E8HYQ13VA1F8KGTG'\n",
    "    r = requests.get(url)\n",
    "    data = r.json()\n",
    "\n",
    "    company_name = data[\"bestMatches\"][0][\"2. name\"]\n",
    "    company_ticker = data[\"bestMatches\"][0][\"1. symbol\"]\n",
    "    return company_name,company_ticker"
   ]
  },
  {
   "cell_type": "code",
   "execution_count": 7,
   "metadata": {},
   "outputs": [
    {
     "data": {
      "text/plain": [
       "('Adani Power Limited', 'ADANIPOWER.BSE')"
      ]
     },
     "execution_count": 7,
     "metadata": {},
     "output_type": "execute_result"
    }
   ],
   "source": [
    "# Openai function calling\n",
    "\n",
    "import json\n",
    "import ollama\n",
    "tools = [\n",
    "        {\n",
    "            \"type\": \"function\",\n",
    "            \"function\": {\n",
    "                \"name\": \"get_company_Stock_ticker\",\n",
    "                \"description\": \"This will get the stock ticker of the company\",\n",
    "                \"parameters\": {\n",
    "                    \"type\": \"object\",\n",
    "                    \"properties\": {\n",
    "                        \"query\": {\n",
    "                            \"type\": \"string\",\n",
    "                            \"description\": \"this can be be a partial or full company name\",\n",
    "                        },\n",
    "                    },\n",
    "                    \"required\": [\"query\"],\n",
    "                },\n",
    "            },\n",
    "        },\n",
    "    ]\n",
    "\n",
    "def get_stock_ticker(query):\n",
    "    response = ollama.chat(\n",
    "        model=\"mistral\",\n",
    "        messages=[\n",
    "            {\n",
    "                \"role\": \"system\",\n",
    "                \"content\": \"you are provided with the funciton get_company_Stock_ticker which retrieves the name and ticker of the requested company make sure to use the function\",\n",
    "            },\n",
    "            {\n",
    "                \"role\": \"user\",\n",
    "                \"content\": f\"what is the comapany name and the company stock ticker ?: {query}?\",\n",
    "            },\n",
    "        ],\n",
    "        tools=tools,\n",
    "    )\n",
    "    return get_company_Stock_ticker(response['message']['tool_calls'][0][\"function\"][\"arguments\"][\"query\"])\n",
    "\n",
    "\n",
    "get_stock_ticker(\"get me stock symbol of Adani power\")\n"
   ]
  },
  {
   "cell_type": "code",
   "execution_count": 8,
   "metadata": {},
   "outputs": [],
   "source": [
    "def Anazlyze_stock(query):\n",
    "    Company_name,ticker=get_stock_ticker(query)\n",
    "    print({\"Query\":query,\"Company_name\":Company_name,\"Ticker\":ticker})\n",
    "    stock_data=get_stock_price(ticker,history=10)\n",
    "    stock_financials=get_financial_statements(ticker)\n",
    "    stock_news=get_recent_stock_news(Company_name)\n",
    "\n",
    "    # available_information=f\"Stock Price: {stock_data}\\n\\nStock Financials: {stock_financials}\\n\\nStock News: {stock_news}\"\n",
    "    available_information=f\"Stock Financials: {stock_financials}\\n\\nStock News: {stock_news}\"\n",
    "\n",
    "    print(\"\\n\\nAnalyzing.....\\n\")\n",
    "    analysis=llm(f\"Give detail stock analysis, Use the available data and provide investment recommendation. \\\n",
    "             The user is fully aware about the investment risk, dont include any kind of warning like 'It is recommended to conduct further research and analysis or consult with a financial advisor before making an investment decision' in the answer \\\n",
    "             User question: {query} \\\n",
    "             You have the following information available about {Company_name}. Write (5-8) pointwise investment analysis to answer user query, At the end conclude with proper explaination.Try to Give positives and negatives  : \\\n",
    "              {available_information} \"\n",
    "             )\n",
    "    return analysis"
   ]
  },
  {
   "cell_type": "code",
   "execution_count": 9,
   "metadata": {},
   "outputs": [
    {
     "name": "stdout",
     "output_type": "stream",
     "text": [
      "{'Query': 'Is it a good time to invest in Yes Bank?', 'Company_name': 'Yes Bank Limited', 'Ticker': 'YESBANK.BSE'}\n",
      "\n",
      "\n",
      "Analyzing.....\n",
      "\n",
      "1. Financial Analysis:\n",
      "\n",
      "   - The total assets of the company are $4,063,615,459, with cash and cash equivalents amounting to $6,340,570,100. This indicates a strong liquidity position.\n",
      "   - The total liabilities of the company are $2,816,372,100, leaving a net assets value of $1,247,243,359.\n",
      "   - The company's investments and advances are significant at $9,477,224,410, which could be a strategic move for future growth.\n",
      "   - The company has reported a net PPE (Property, Plant, and Equipment) of $286,573,700 with an accumulated depreciation of $281,637,210, suggesting a moderate level of capital expenditure.\n",
      "\n",
      "  2. Recent News:\n",
      "\n",
      "   - The company has not disclosed any significant news in the provided timeframe. It is recommended to check the latest updates from reliable financial news sources or the company's official website for more recent information.\n",
      "\n",
      "  3. Investment Considerations:\n",
      "\n",
      "   - Given the strong liquidity position, substantial investments, and moderate capital expenditure, the company appears to be financially stable with potential growth opportunities.\n",
      "   - The absence of recent significant news may indicate a period of strategic planning or consolidation, which could present an opportunity for long-term investors.\n",
      "   - It is essential to conduct further research, including analyzing the company's financial performance over time, understanding its business model, and assessing market conditions before making any investment decisions.\n"
     ]
    }
   ],
   "source": [
    "print(Anazlyze_stock(\"Is it a good time to invest in Yes Bank?\"))"
   ]
  },
  {
   "cell_type": "code",
   "execution_count": null,
   "metadata": {},
   "outputs": [],
   "source": []
  }
 ],
 "metadata": {
  "kernelspec": {
   "display_name": "Python 3 (ipykernel)",
   "language": "python",
   "name": "python3"
  },
  "language_info": {
   "codemirror_mode": {
    "name": "ipython",
    "version": 3
   },
   "file_extension": ".py",
   "mimetype": "text/x-python",
   "name": "python",
   "nbconvert_exporter": "python",
   "pygments_lexer": "ipython3",
   "version": "3.11.2"
  }
 },
 "nbformat": 4,
 "nbformat_minor": 4
}
